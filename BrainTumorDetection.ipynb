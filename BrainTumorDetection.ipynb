{
  "nbformat": 4,
  "nbformat_minor": 0,
  "metadata": {
    "colab": {
      "name": "BrainTumorDetection.ipynb",
      "provenance": [],
      "collapsed_sections": []
    },
    "kernelspec": {
      "name": "python3",
      "display_name": "Python 3"
    },
    "language_info": {
      "name": "python"
    }
  },
  "cells": [
    {
      "cell_type": "markdown",
      "source": [
        "# **Importing the libraries**"
      ],
      "metadata": {
        "id": "arV3rX1Vk9p9"
      }
    },
    {
      "cell_type": "code",
      "execution_count": 45,
      "metadata": {
        "id": "IKCU2OMuqVKL"
      },
      "outputs": [],
      "source": [
        "import matplotlib.pyplot as plt\n",
        "import tensorflow as tf\n",
        "import keras\n",
        "from keras import Sequential\n",
        "from tensorflow.keras.applications.mobilenet import MobileNet\n",
        "from keras.layers import Dense\n",
        "from keras.preprocessing import image\n",
        "import pandas as pd\n",
        "import os\n",
        "import numpy as np\n",
        "from PIL.Image import open"
      ]
    },
    {
      "cell_type": "markdown",
      "source": [
        "# **Reading the dataset**"
      ],
      "metadata": {
        "id": "oFx_9iAklL7t"
      }
    },
    {
      "cell_type": "code",
      "source": [
        "brain_df = pd.read_csv('/content/drive/MyDrive/Brain Tumor.csv',usecols=[0,1])\n",
        "brain_df.head(5)"
      ],
      "metadata": {
        "colab": {
          "base_uri": "https://localhost:8080/",
          "height": 206
        },
        "id": "MmoS6tAu15ZA",
        "outputId": "a8550f73-a8d0-4d7b-8193-5ecd065b2014"
      },
      "execution_count": 46,
      "outputs": [
        {
          "output_type": "execute_result",
          "data": {
            "text/plain": [
              "    Image  Class\n",
              "0  Image1      0\n",
              "1  Image2      0\n",
              "2  Image3      1\n",
              "3  Image4      1\n",
              "4  Image5      0"
            ],
            "text/html": [
              "\n",
              "  <div id=\"df-c46bac26-9560-4667-9546-d0409f63afa0\">\n",
              "    <div class=\"colab-df-container\">\n",
              "      <div>\n",
              "<style scoped>\n",
              "    .dataframe tbody tr th:only-of-type {\n",
              "        vertical-align: middle;\n",
              "    }\n",
              "\n",
              "    .dataframe tbody tr th {\n",
              "        vertical-align: top;\n",
              "    }\n",
              "\n",
              "    .dataframe thead th {\n",
              "        text-align: right;\n",
              "    }\n",
              "</style>\n",
              "<table border=\"1\" class=\"dataframe\">\n",
              "  <thead>\n",
              "    <tr style=\"text-align: right;\">\n",
              "      <th></th>\n",
              "      <th>Image</th>\n",
              "      <th>Class</th>\n",
              "    </tr>\n",
              "  </thead>\n",
              "  <tbody>\n",
              "    <tr>\n",
              "      <th>0</th>\n",
              "      <td>Image1</td>\n",
              "      <td>0</td>\n",
              "    </tr>\n",
              "    <tr>\n",
              "      <th>1</th>\n",
              "      <td>Image2</td>\n",
              "      <td>0</td>\n",
              "    </tr>\n",
              "    <tr>\n",
              "      <th>2</th>\n",
              "      <td>Image3</td>\n",
              "      <td>1</td>\n",
              "    </tr>\n",
              "    <tr>\n",
              "      <th>3</th>\n",
              "      <td>Image4</td>\n",
              "      <td>1</td>\n",
              "    </tr>\n",
              "    <tr>\n",
              "      <th>4</th>\n",
              "      <td>Image5</td>\n",
              "      <td>0</td>\n",
              "    </tr>\n",
              "  </tbody>\n",
              "</table>\n",
              "</div>\n",
              "      <button class=\"colab-df-convert\" onclick=\"convertToInteractive('df-c46bac26-9560-4667-9546-d0409f63afa0')\"\n",
              "              title=\"Convert this dataframe to an interactive table.\"\n",
              "              style=\"display:none;\">\n",
              "        \n",
              "  <svg xmlns=\"http://www.w3.org/2000/svg\" height=\"24px\"viewBox=\"0 0 24 24\"\n",
              "       width=\"24px\">\n",
              "    <path d=\"M0 0h24v24H0V0z\" fill=\"none\"/>\n",
              "    <path d=\"M18.56 5.44l.94 2.06.94-2.06 2.06-.94-2.06-.94-.94-2.06-.94 2.06-2.06.94zm-11 1L8.5 8.5l.94-2.06 2.06-.94-2.06-.94L8.5 2.5l-.94 2.06-2.06.94zm10 10l.94 2.06.94-2.06 2.06-.94-2.06-.94-.94-2.06-.94 2.06-2.06.94z\"/><path d=\"M17.41 7.96l-1.37-1.37c-.4-.4-.92-.59-1.43-.59-.52 0-1.04.2-1.43.59L10.3 9.45l-7.72 7.72c-.78.78-.78 2.05 0 2.83L4 21.41c.39.39.9.59 1.41.59.51 0 1.02-.2 1.41-.59l7.78-7.78 2.81-2.81c.8-.78.8-2.07 0-2.86zM5.41 20L4 18.59l7.72-7.72 1.47 1.35L5.41 20z\"/>\n",
              "  </svg>\n",
              "      </button>\n",
              "      \n",
              "  <style>\n",
              "    .colab-df-container {\n",
              "      display:flex;\n",
              "      flex-wrap:wrap;\n",
              "      gap: 12px;\n",
              "    }\n",
              "\n",
              "    .colab-df-convert {\n",
              "      background-color: #E8F0FE;\n",
              "      border: none;\n",
              "      border-radius: 50%;\n",
              "      cursor: pointer;\n",
              "      display: none;\n",
              "      fill: #1967D2;\n",
              "      height: 32px;\n",
              "      padding: 0 0 0 0;\n",
              "      width: 32px;\n",
              "    }\n",
              "\n",
              "    .colab-df-convert:hover {\n",
              "      background-color: #E2EBFA;\n",
              "      box-shadow: 0px 1px 2px rgba(60, 64, 67, 0.3), 0px 1px 3px 1px rgba(60, 64, 67, 0.15);\n",
              "      fill: #174EA6;\n",
              "    }\n",
              "\n",
              "    [theme=dark] .colab-df-convert {\n",
              "      background-color: #3B4455;\n",
              "      fill: #D2E3FC;\n",
              "    }\n",
              "\n",
              "    [theme=dark] .colab-df-convert:hover {\n",
              "      background-color: #434B5C;\n",
              "      box-shadow: 0px 1px 3px 1px rgba(0, 0, 0, 0.15);\n",
              "      filter: drop-shadow(0px 1px 2px rgba(0, 0, 0, 0.3));\n",
              "      fill: #FFFFFF;\n",
              "    }\n",
              "  </style>\n",
              "\n",
              "      <script>\n",
              "        const buttonEl =\n",
              "          document.querySelector('#df-c46bac26-9560-4667-9546-d0409f63afa0 button.colab-df-convert');\n",
              "        buttonEl.style.display =\n",
              "          google.colab.kernel.accessAllowed ? 'block' : 'none';\n",
              "\n",
              "        async function convertToInteractive(key) {\n",
              "          const element = document.querySelector('#df-c46bac26-9560-4667-9546-d0409f63afa0');\n",
              "          const dataTable =\n",
              "            await google.colab.kernel.invokeFunction('convertToInteractive',\n",
              "                                                     [key], {});\n",
              "          if (!dataTable) return;\n",
              "\n",
              "          const docLinkHtml = 'Like what you see? Visit the ' +\n",
              "            '<a target=\"_blank\" href=https://colab.research.google.com/notebooks/data_table.ipynb>data table notebook</a>'\n",
              "            + ' to learn more about interactive tables.';\n",
              "          element.innerHTML = '';\n",
              "          dataTable['output_type'] = 'display_data';\n",
              "          await google.colab.output.renderOutput(dataTable, element);\n",
              "          const docLink = document.createElement('div');\n",
              "          docLink.innerHTML = docLinkHtml;\n",
              "          element.appendChild(docLink);\n",
              "        }\n",
              "      </script>\n",
              "    </div>\n",
              "  </div>\n",
              "  "
            ]
          },
          "metadata": {},
          "execution_count": 46
        }
      ]
    },
    {
      "cell_type": "code",
      "source": [
        "#storing the path of all the images\n",
        "path_list = []\n",
        "base_path = '/content/drive/MyDrive/Brain Tumor/'\n",
        "for entry in os.listdir(base_path):\n",
        "    path_list.append( os.path.join(base_path,entry))\n",
        "pathes_dict={os.path.splitext(os.path.basename(x))[0]: x for x in path_list}\n",
        "brain_df['path'] = brain_df['Image'].map(pathes_dict.get)"
      ],
      "metadata": {
        "id": "ZGBcwPNs2msH"
      },
      "execution_count": 47,
      "outputs": []
    },
    {
      "cell_type": "code",
      "source": [
        "#pixel array for all the images\n",
        "brain_df['pixels']=brain_df['path'].map(lambda x:np.asarray(open(x).resize((224,224))))"
      ],
      "metadata": {
        "id": "SsNTd6Pa21gv"
      },
      "execution_count": 48,
      "outputs": []
    },
    {
      "cell_type": "code",
      "source": [
        "image_list = []\n",
        "for i in range(0,len(brain_df)):\n",
        "    brain_img = brain_df['pixels'][i].astype(np.float32)\n",
        "    img_array = image.img_to_array(brain_img)\n",
        "    image_list.append(keras.applications.mobilenet_v2.preprocess_input(img_array))\n",
        "X = np.array(image_list)"
      ],
      "metadata": {
        "id": "vaUgh2m126Vi"
      },
      "execution_count": 49,
      "outputs": []
    },
    {
      "cell_type": "code",
      "source": [
        "y = np.array(brain_df.Class)"
      ],
      "metadata": {
        "id": "XdgS5erw3XJK"
      },
      "execution_count": 50,
      "outputs": []
    },
    {
      "cell_type": "markdown",
      "source": [
        "# **Splitting the dataset into training and testing**"
      ],
      "metadata": {
        "id": "h2X1daVxlxqA"
      }
    },
    {
      "cell_type": "code",
      "source": [
        "#Ratio of split is 80:20\n",
        "si = int(0.8*len(brain_df))\n",
        "X_train = X[:si]\n",
        "X_test = X[si:]\n",
        "y_train = y[:si]\n",
        "y_test = y[si:]"
      ],
      "metadata": {
        "id": "GbxXHdbvXVQq"
      },
      "execution_count": 51,
      "outputs": []
    },
    {
      "cell_type": "markdown",
      "source": [
        "# **Building the model**"
      ],
      "metadata": {
        "id": "pMeq2crbmEqZ"
      }
    },
    {
      "cell_type": "code",
      "source": [
        "num_classes = 1\n",
        "model = Sequential()\n",
        "model.add(MobileNet(input_shape=(224, 224, 3),weights=\"imagenet\",include_top=False))\n",
        "model.add(keras.layers.GlobalAveragePooling2D())\n",
        "model.add( Dense(num_classes, activation='sigmoid',name='preds'))\n",
        "model.layers[0].trainable= False\n",
        "model.summary()"
      ],
      "metadata": {
        "colab": {
          "base_uri": "https://localhost:8080/"
        },
        "id": "fa6Ym8Yt3g7h",
        "outputId": "9bbcc030-45d1-4181-8cbc-96ea67bf3918"
      },
      "execution_count": 52,
      "outputs": [
        {
          "output_type": "stream",
          "name": "stdout",
          "text": [
            "Model: \"sequential_2\"\n",
            "_________________________________________________________________\n",
            " Layer (type)                Output Shape              Param #   \n",
            "=================================================================\n",
            " mobilenet_1.00_224 (Functio  (None, 7, 7, 1024)       3228864   \n",
            " nal)                                                            \n",
            "                                                                 \n",
            " global_average_pooling2d_2   (None, 1024)             0         \n",
            " (GlobalAveragePooling2D)                                        \n",
            "                                                                 \n",
            " preds (Dense)               (None, 1)                 1025      \n",
            "                                                                 \n",
            "=================================================================\n",
            "Total params: 3,229,889\n",
            "Trainable params: 1,025\n",
            "Non-trainable params: 3,228,864\n",
            "_________________________________________________________________\n"
          ]
        }
      ]
    },
    {
      "cell_type": "code",
      "source": [
        "model.compile(\n",
        "    loss=keras.losses.binary_crossentropy,\n",
        "    optimizer=tf.keras.optimizers.SGD(lr=0.001),\n",
        "    metrics=['accuracy']\n",
        ")"
      ],
      "metadata": {
        "colab": {
          "base_uri": "https://localhost:8080/"
        },
        "id": "cbT9UPA53hH1",
        "outputId": "f0455751-c671-4ff6-91a1-c9bcc52aa898"
      },
      "execution_count": 53,
      "outputs": [
        {
          "output_type": "stream",
          "name": "stderr",
          "text": [
            "/usr/local/lib/python3.7/dist-packages/keras/optimizer_v2/gradient_descent.py:102: UserWarning: The `lr` argument is deprecated, use `learning_rate` instead.\n",
            "  super(SGD, self).__init__(name, **kwargs)\n"
          ]
        }
      ]
    },
    {
      "cell_type": "code",
      "source": [
        "model.fit(\n",
        "    X_train[:,:,:,:],\n",
        "    y_train[:],\n",
        "    epochs=25,\n",
        "    verbose=1,\n",
        "    validation_data=(X_test[:,:,:,:], y_test[:])\n",
        ")"
      ],
      "metadata": {
        "colab": {
          "base_uri": "https://localhost:8080/"
        },
        "id": "s2TSwoe13siw",
        "outputId": "1aa951c5-0f46-4e19-866c-5021c2857044"
      },
      "execution_count": 54,
      "outputs": [
        {
          "output_type": "stream",
          "name": "stdout",
          "text": [
            "Epoch 1/25\n",
            "95/95 [==============================] - 130s 1s/step - loss: 0.7070 - accuracy: 0.5567 - val_loss: 0.6877 - val_accuracy: 0.5697\n",
            "Epoch 2/25\n",
            "95/95 [==============================] - 127s 1s/step - loss: 0.5576 - accuracy: 0.7132 - val_loss: 0.6394 - val_accuracy: 0.6401\n",
            "Epoch 3/25\n",
            "95/95 [==============================] - 127s 1s/step - loss: 0.4904 - accuracy: 0.7853 - val_loss: 0.5491 - val_accuracy: 0.7264\n",
            "Epoch 4/25\n",
            "95/95 [==============================] - 126s 1s/step - loss: 0.4517 - accuracy: 0.8102 - val_loss: 0.5223 - val_accuracy: 0.7570\n",
            "Epoch 5/25\n",
            "95/95 [==============================] - 127s 1s/step - loss: 0.4261 - accuracy: 0.8298 - val_loss: 0.4439 - val_accuracy: 0.8021\n",
            "Epoch 6/25\n",
            "95/95 [==============================] - 127s 1s/step - loss: 0.4087 - accuracy: 0.8368 - val_loss: 0.4765 - val_accuracy: 0.7915\n",
            "Epoch 7/25\n",
            "95/95 [==============================] - 129s 1s/step - loss: 0.3917 - accuracy: 0.8455 - val_loss: 0.5028 - val_accuracy: 0.7716\n",
            "Epoch 8/25\n",
            "95/95 [==============================] - 127s 1s/step - loss: 0.3788 - accuracy: 0.8478 - val_loss: 0.4279 - val_accuracy: 0.8167\n",
            "Epoch 9/25\n",
            "95/95 [==============================] - 127s 1s/step - loss: 0.3686 - accuracy: 0.8551 - val_loss: 0.4394 - val_accuracy: 0.8167\n",
            "Epoch 10/25\n",
            "95/95 [==============================] - 127s 1s/step - loss: 0.3590 - accuracy: 0.8551 - val_loss: 0.4176 - val_accuracy: 0.8220\n",
            "Epoch 11/25\n",
            "95/95 [==============================] - 127s 1s/step - loss: 0.3503 - accuracy: 0.8594 - val_loss: 0.4046 - val_accuracy: 0.8300\n",
            "Epoch 12/25\n",
            "95/95 [==============================] - 125s 1s/step - loss: 0.3425 - accuracy: 0.8654 - val_loss: 0.3991 - val_accuracy: 0.8340\n",
            "Epoch 13/25\n",
            "95/95 [==============================] - 127s 1s/step - loss: 0.3355 - accuracy: 0.8684 - val_loss: 0.3911 - val_accuracy: 0.8393\n",
            "Epoch 14/25\n",
            "95/95 [==============================] - 127s 1s/step - loss: 0.3293 - accuracy: 0.8704 - val_loss: 0.3872 - val_accuracy: 0.8406\n",
            "Epoch 15/25\n",
            "95/95 [==============================] - 123s 1s/step - loss: 0.3234 - accuracy: 0.8727 - val_loss: 0.3972 - val_accuracy: 0.8353\n",
            "Epoch 16/25\n",
            "95/95 [==============================] - 125s 1s/step - loss: 0.3181 - accuracy: 0.8764 - val_loss: 0.3780 - val_accuracy: 0.8486\n",
            "Epoch 17/25\n",
            "95/95 [==============================] - 127s 1s/step - loss: 0.3130 - accuracy: 0.8794 - val_loss: 0.3639 - val_accuracy: 0.8566\n",
            "Epoch 18/25\n",
            "95/95 [==============================] - 127s 1s/step - loss: 0.3085 - accuracy: 0.8794 - val_loss: 0.3649 - val_accuracy: 0.8606\n",
            "Epoch 19/25\n",
            "95/95 [==============================] - 125s 1s/step - loss: 0.3042 - accuracy: 0.8843 - val_loss: 0.3298 - val_accuracy: 0.8619\n",
            "Epoch 20/25\n",
            "95/95 [==============================] - 122s 1s/step - loss: 0.3002 - accuracy: 0.8840 - val_loss: 0.3323 - val_accuracy: 0.8725\n",
            "Epoch 21/25\n",
            "95/95 [==============================] - 123s 1s/step - loss: 0.2967 - accuracy: 0.8853 - val_loss: 0.3367 - val_accuracy: 0.8672\n",
            "Epoch 22/25\n",
            "95/95 [==============================] - 127s 1s/step - loss: 0.2928 - accuracy: 0.8883 - val_loss: 0.3213 - val_accuracy: 0.8699\n",
            "Epoch 23/25\n",
            "95/95 [==============================] - 127s 1s/step - loss: 0.2902 - accuracy: 0.8910 - val_loss: 0.3809 - val_accuracy: 0.8459\n",
            "Epoch 24/25\n",
            "95/95 [==============================] - 127s 1s/step - loss: 0.2872 - accuracy: 0.8930 - val_loss: 0.3328 - val_accuracy: 0.8725\n",
            "Epoch 25/25\n",
            "95/95 [==============================] - 126s 1s/step - loss: 0.2834 - accuracy: 0.8946 - val_loss: 0.3334 - val_accuracy: 0.8712\n"
          ]
        },
        {
          "output_type": "execute_result",
          "data": {
            "text/plain": [
              "<keras.callbacks.History at 0x7f0e1fa41290>"
            ]
          },
          "metadata": {},
          "execution_count": 54
        }
      ]
    },
    {
      "cell_type": "code",
      "source": [
        "model.save(\"model_brain.h5\")"
      ],
      "metadata": {
        "id": "d6jxI_M8D4NS"
      },
      "execution_count": 55,
      "outputs": []
    },
    {
      "cell_type": "code",
      "source": [
        "pretrained_cnn = keras.models.load_model('./model_brain.h5')\n",
        "eval_score = pretrained_cnn.evaluate(X_test,y_test)\n",
        "print('Eval loss:',eval_score[0])\n",
        "print('Eval accuracy:',eval_score[1])"
      ],
      "metadata": {
        "colab": {
          "base_uri": "https://localhost:8080/"
        },
        "id": "bzg8sJX1EIX1",
        "outputId": "5a4fbad1-ea28-4dd6-800d-455c27136c23"
      },
      "execution_count": 56,
      "outputs": [
        {
          "output_type": "stream",
          "name": "stdout",
          "text": [
            "24/24 [==============================] - 27s 1s/step - loss: 0.3334 - accuracy: 0.8712\n",
            "Eval loss: 0.33343520760536194\n",
            "Eval accuracy: 0.8711819648742676\n"
          ]
        }
      ]
    },
    {
      "cell_type": "code",
      "source": [
        "y_pred = (pretrained_cnn.predict(X_test) > 0.5)*1"
      ],
      "metadata": {
        "id": "4UaL2gIXmf3v"
      },
      "execution_count": 57,
      "outputs": []
    },
    {
      "cell_type": "markdown",
      "source": [
        "# **Predicting for a testing image**"
      ],
      "metadata": {
        "id": "XO_wJNKopZFH"
      }
    },
    {
      "cell_type": "code",
      "source": [
        "test_image = image.load_img(\"/content/drive/MyDrive/Brain Tumor/testing image/testimage1.jpg\",target_size=(224,224))\n",
        "test_image = image.img_to_array(test_image)\n",
        "test_image = np.expand_dims(test_image,axis=0)\n",
        "result = model.predict(test_image)\n",
        "if(result[0][0]>=0.5):\n",
        "  print(\"Tumor\")\n",
        "else:\n",
        "  print(\"Non Tumor\")"
      ],
      "metadata": {
        "colab": {
          "base_uri": "https://localhost:8080/"
        },
        "id": "M17kom__Ykuw",
        "outputId": "3294cbfc-8ba4-47a4-9819-4ea1e73f461d"
      },
      "execution_count": 58,
      "outputs": [
        {
          "output_type": "stream",
          "name": "stdout",
          "text": [
            "Non Tumor\n"
          ]
        }
      ]
    }
  ]
}